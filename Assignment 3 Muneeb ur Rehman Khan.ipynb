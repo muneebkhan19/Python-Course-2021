{
 "cells": [
  {
   "cell_type": "code",
   "execution_count": 5,
   "id": "a60c1b3f",
   "metadata": {},
   "outputs": [
    {
     "name": "stdout",
     "output_type": "stream",
     "text": [
      "Python version\n",
      "3.6.13 | packaged by conda-forge | (default, Sep 23 2021, 07:56:31) \n",
      "[GCC 9.4.0]\n",
      "Version info.\n",
      "sys.version_info(major=3, minor=6, micro=13, releaselevel='final', serial=0)\n"
     ]
    }
   ],
   "source": [
    "#Question 2\n",
    "import sys\n",
    "print(\"Python version\")\n",
    "print (sys.version)\n",
    "print(\"Version info.\")\n",
    "print (sys.version_info)\n"
   ]
  },
  {
   "cell_type": "code",
   "execution_count": 7,
   "id": "f0324519",
   "metadata": {},
   "outputs": [
    {
     "name": "stdout",
     "output_type": "stream",
     "text": [
      "Twinkle, twinkle, little star,\n",
      "\tHow I wonder what you are!\n",
      "\t\tUp above the world so high,\n",
      "\t\tLike a diamond in the sky.\n",
      "Twinkle, twinkle, little star,\n",
      "\tHow I wonder what you are!\n"
     ]
    }
   ],
   "source": [
    "#Question 1\n",
    "print(\"Twinkle, twinkle, little star,\")\n",
    "print(\"\\tHow I wonder what you are!\")\n",
    "print(\"\\t\\tUp above the world so high,\\n\\t\\tLike a diamond in the sky.\")\n",
    "print(\"Twinkle, twinkle, little star,\")\n",
    "print(\"\\tHow I wonder what you are!\")"
   ]
  },
  {
   "cell_type": "code",
   "execution_count": 8,
   "id": "72cf36bd",
   "metadata": {},
   "outputs": [
    {
     "name": "stdout",
     "output_type": "stream",
     "text": [
      "2021-10-24 10:38:12.156188\n"
     ]
    }
   ],
   "source": [
    "#Question 3\n",
    "import datetime\n",
    "\n",
    "x = datetime.datetime.now()\n",
    "print(x)"
   ]
  },
  {
   "cell_type": "code",
   "execution_count": 14,
   "id": "1156a026",
   "metadata": {},
   "outputs": [
    {
     "name": "stdout",
     "output_type": "stream",
     "text": [
      "Enter Radius = 5\n",
      "Area is = 78.55\n"
     ]
    }
   ],
   "source": [
    "#Question 4\n",
    "temp=input(\"Enter Radius = \");\n",
    "radius=float(temp);\n",
    "area=3.142*(radius*radius);\n",
    "print(\"Area is =\", area);"
   ]
  },
  {
   "cell_type": "code",
   "execution_count": 21,
   "id": "d02c345d",
   "metadata": {},
   "outputs": [
    {
     "name": "stdout",
     "output_type": "stream",
     "text": [
      "Enter your first name Muneeb \n",
      "Enter your last name Khan\n",
      "Output =  beenuM  nahK\n"
     ]
    }
   ],
   "source": [
    "#Question 5\n",
    "f_name=input(\"Enter your first name \");\n",
    "l_name=input(\"Enter your last name \");\n",
    "print(\"Output = \"+f_name[::-1] +\" \"+ \" \"+ l_name[::-1])"
   ]
  },
  {
   "cell_type": "code",
   "execution_count": 23,
   "id": "15d03352",
   "metadata": {},
   "outputs": [
    {
     "name": "stdout",
     "output_type": "stream",
     "text": [
      "Enter 1st number 3\n",
      "Enter 2nd Number 5\n",
      "Result  8.0\n"
     ]
    }
   ],
   "source": [
    "# Question 6\n",
    "inp1=input(\"Enter 1st number \");\n",
    "inp2=input(\"Enter 2nd Number \");\n",
    "result=float(inp1)+float(inp2);\n",
    "print(\"Result \" , result);"
   ]
  },
  {
   "cell_type": "code",
   "execution_count": 43,
   "id": "007a4935",
   "metadata": {},
   "outputs": [
    {
     "name": "stdout",
     "output_type": "stream",
     "text": [
      "Enter a number: 5\n",
      "even\n"
     ]
    }
   ],
   "source": [
    "#Question 8\n",
    "num=int(input(\"Enter a number: \"))\n",
    "if(num%2==0):\n",
    "    print(\"odd\");\n",
    "else:\n",
    "    print(\"even\")"
   ]
  },
  {
   "cell_type": "code",
   "execution_count": 57,
   "id": "4377811f",
   "metadata": {},
   "outputs": [
    {
     "name": "stdout",
     "output_type": "stream",
     "text": [
      " Length is :  9\n"
     ]
    }
   ],
   "source": [
    "#Qestion 9\n",
    "x=[1,2,3,4,5,6,95,9,10]\n",
    "print(\" Length is : \" , len(x));"
   ]
  },
  {
   "cell_type": "code",
   "execution_count": 58,
   "id": "d9f73314",
   "metadata": {},
   "outputs": [
    {
     "name": "stdout",
     "output_type": "stream",
     "text": [
      "Sum =  142\n"
     ]
    }
   ],
   "source": [
    "#Qestion 10\n",
    "x=[1,2,3,4,5,6,7,95,9,10]\n",
    "res=0;\n",
    "for i in x:\n",
    "    res=res+i\n",
    "\n",
    "print(\"Sum = \", res);"
   ]
  },
  {
   "cell_type": "code",
   "execution_count": 65,
   "id": "0038598e",
   "metadata": {},
   "outputs": [
    {
     "name": "stdout",
     "output_type": "stream",
     "text": [
      "65\n"
     ]
    }
   ],
   "source": [
    "#Qestion 11\n",
    "import numpy as np\n",
    "arr = np.array([1,2,3,4,5,65,7,8,9,10])\n",
    "lar=x[0];\n",
    "for i in range(len(x)):\n",
    "    if(lar<arr[i]):\n",
    "        lar=arr[i]\n",
    "\n",
    "print(lar)"
   ]
  },
  {
   "cell_type": "code",
   "execution_count": 67,
   "id": "a2545f01",
   "metadata": {},
   "outputs": [
    {
     "name": "stdout",
     "output_type": "stream",
     "text": [
      "1\n",
      "1\n",
      "2\n",
      "3\n"
     ]
    }
   ],
   "source": [
    "#Qestion 12\n",
    "import numpy as np\n",
    "a = np.array([1, 1, 2, 3, 5, 8, 13, 21, 34, 55, 89])\n",
    "for i in range(len(x)):\n",
    "    if(a[i]<5):\n",
    "        print(a[i])"
   ]
  },
  {
   "cell_type": "code",
   "execution_count": 79,
   "id": "4edc0e77",
   "metadata": {},
   "outputs": [
    {
     "name": "stdout",
     "output_type": "stream",
     "text": [
      "Enter  number: 100\n",
      "Enter  number: 100\n",
      "Enter  number: 100\n",
      "Enter  number: 100\n",
      "Enter  number: 100\n",
      "Grade = A Percentage =  100.0\n"
     ]
    }
   ],
   "source": [
    "#Question  7\n",
    "sub1=int(input(\"Enter  number: \"))\n",
    "sub2=int(input(\"Enter  number: \"))\n",
    "sub3=int(input(\"Enter  number: \"))\n",
    "sub4=int(input(\"Enter  number: \"))\n",
    "sub5=int(input(\"Enter  number: \"))\n",
    "total=sub1+sub2+sub3+sub4+sub5;\n",
    "percentage=(total/500)*100\n",
    "\n",
    "if(percentage>=90 ):\n",
    "    print(\"Grade = A \" + \"Percentage = \" ,percentage)\n",
    "elif(percentage>=80 ):\n",
    "    print(\"Grade = B \" + \"Percentage = \" ,percentage)\n",
    "elif(percentage>=70 ):\n",
    "    print(\"Grade = C \" + \"Percentage = \" ,percentage)\n",
    "elif(percentage>=60 ):\n",
    "    print(\"Grade = D \" + \"Percentage = \" ,percentage)\n",
    "else :\n",
    "    print(\"Rsult =  Fail \")\n",
    "    "
   ]
  },
  {
   "cell_type": "code",
   "execution_count": null,
   "id": "2487c99c",
   "metadata": {},
   "outputs": [],
   "source": []
  },
  {
   "cell_type": "code",
   "execution_count": null,
   "id": "390da940",
   "metadata": {},
   "outputs": [],
   "source": []
  }
 ],
 "metadata": {
  "kernelspec": {
   "display_name": "Python 3",
   "language": "python",
   "name": "python3"
  },
  "language_info": {
   "codemirror_mode": {
    "name": "ipython",
    "version": 3
   },
   "file_extension": ".py",
   "mimetype": "text/x-python",
   "name": "python",
   "nbconvert_exporter": "python",
   "pygments_lexer": "ipython3",
   "version": "3.6.13"
  }
 },
 "nbformat": 4,
 "nbformat_minor": 5
}
